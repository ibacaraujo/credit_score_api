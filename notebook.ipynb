{
  "cells": [
    {
      "cell_type": "code",
      "execution_count": 6,
      "metadata": {
        "id": "m8ZC7cCGf0QH"
      },
      "outputs": [],
      "source": [
        "import pandas as pd\n",
        "import numpy as np\n",
        "import matplotlib.pyplot as plt"
      ]
    },
    {
      "cell_type": "code",
      "execution_count": 7,
      "metadata": {
        "id": "O1MGA9rAgEA4"
      },
      "outputs": [],
      "source": [
        "url = \"https://archive.ics.uci.edu/ml/machine-learning-databases/statlog/german/german.data\""
      ]
    },
    {
      "cell_type": "code",
      "execution_count": 8,
      "metadata": {
        "id": "MCrDpNkMgJVJ"
      },
      "outputs": [],
      "source": [
        "columns = [\n",
        "    'Status', 'Duration', 'CreditHistory', 'Purpose', 'CreditAmount',\n",
        "    'Savings', 'Employment', 'InstallmentRate', 'PersonalStatus', 'OtherDebtors',\n",
        "    'ResidenceDuration', 'Property', 'Age', 'OtherInstallments', 'Housing',\n",
        "    'ExistingCredits', 'Job', 'NumberDependents', 'Telephone', 'ForeignWorker', 'Target'\n",
        "]"
      ]
    },
    {
      "cell_type": "markdown",
      "metadata": {
        "id": "OEEjgY7FjEho"
      },
      "source": [
        "## Data preparation and data cleaning."
      ]
    },
    {
      "cell_type": "code",
      "execution_count": 46,
      "metadata": {
        "id": "zCB2iSJ3gLd6"
      },
      "outputs": [],
      "source": [
        "df = pd.read_csv(url, sep=' ', header=None, names=columns)"
      ]
    },
    {
      "cell_type": "code",
      "execution_count": 47,
      "metadata": {
        "colab": {
          "base_uri": "https://localhost:8080/",
          "height": 206
        },
        "id": "9rGXuoTHgMi2",
        "outputId": "cb1d1036-7b14-4274-b2a3-5135875af9a9"
      },
      "outputs": [
        {
          "data": {
            "text/html": [
              "<div>\n",
              "<style scoped>\n",
              "    .dataframe tbody tr th:only-of-type {\n",
              "        vertical-align: middle;\n",
              "    }\n",
              "\n",
              "    .dataframe tbody tr th {\n",
              "        vertical-align: top;\n",
              "    }\n",
              "\n",
              "    .dataframe thead th {\n",
              "        text-align: right;\n",
              "    }\n",
              "</style>\n",
              "<table border=\"1\" class=\"dataframe\">\n",
              "  <thead>\n",
              "    <tr style=\"text-align: right;\">\n",
              "      <th></th>\n",
              "      <th>Status</th>\n",
              "      <th>Duration</th>\n",
              "      <th>CreditHistory</th>\n",
              "      <th>Purpose</th>\n",
              "      <th>CreditAmount</th>\n",
              "      <th>Savings</th>\n",
              "      <th>Employment</th>\n",
              "      <th>InstallmentRate</th>\n",
              "      <th>PersonalStatus</th>\n",
              "      <th>OtherDebtors</th>\n",
              "      <th>...</th>\n",
              "      <th>Property</th>\n",
              "      <th>Age</th>\n",
              "      <th>OtherInstallments</th>\n",
              "      <th>Housing</th>\n",
              "      <th>ExistingCredits</th>\n",
              "      <th>Job</th>\n",
              "      <th>NumberDependents</th>\n",
              "      <th>Telephone</th>\n",
              "      <th>ForeignWorker</th>\n",
              "      <th>Target</th>\n",
              "    </tr>\n",
              "  </thead>\n",
              "  <tbody>\n",
              "    <tr>\n",
              "      <th>0</th>\n",
              "      <td>A11</td>\n",
              "      <td>6</td>\n",
              "      <td>A34</td>\n",
              "      <td>A43</td>\n",
              "      <td>1169</td>\n",
              "      <td>A65</td>\n",
              "      <td>A75</td>\n",
              "      <td>4</td>\n",
              "      <td>A93</td>\n",
              "      <td>A101</td>\n",
              "      <td>...</td>\n",
              "      <td>A121</td>\n",
              "      <td>67</td>\n",
              "      <td>A143</td>\n",
              "      <td>A152</td>\n",
              "      <td>2</td>\n",
              "      <td>A173</td>\n",
              "      <td>1</td>\n",
              "      <td>A192</td>\n",
              "      <td>A201</td>\n",
              "      <td>1</td>\n",
              "    </tr>\n",
              "    <tr>\n",
              "      <th>1</th>\n",
              "      <td>A12</td>\n",
              "      <td>48</td>\n",
              "      <td>A32</td>\n",
              "      <td>A43</td>\n",
              "      <td>5951</td>\n",
              "      <td>A61</td>\n",
              "      <td>A73</td>\n",
              "      <td>2</td>\n",
              "      <td>A92</td>\n",
              "      <td>A101</td>\n",
              "      <td>...</td>\n",
              "      <td>A121</td>\n",
              "      <td>22</td>\n",
              "      <td>A143</td>\n",
              "      <td>A152</td>\n",
              "      <td>1</td>\n",
              "      <td>A173</td>\n",
              "      <td>1</td>\n",
              "      <td>A191</td>\n",
              "      <td>A201</td>\n",
              "      <td>2</td>\n",
              "    </tr>\n",
              "    <tr>\n",
              "      <th>2</th>\n",
              "      <td>A14</td>\n",
              "      <td>12</td>\n",
              "      <td>A34</td>\n",
              "      <td>A46</td>\n",
              "      <td>2096</td>\n",
              "      <td>A61</td>\n",
              "      <td>A74</td>\n",
              "      <td>2</td>\n",
              "      <td>A93</td>\n",
              "      <td>A101</td>\n",
              "      <td>...</td>\n",
              "      <td>A121</td>\n",
              "      <td>49</td>\n",
              "      <td>A143</td>\n",
              "      <td>A152</td>\n",
              "      <td>1</td>\n",
              "      <td>A172</td>\n",
              "      <td>2</td>\n",
              "      <td>A191</td>\n",
              "      <td>A201</td>\n",
              "      <td>1</td>\n",
              "    </tr>\n",
              "    <tr>\n",
              "      <th>3</th>\n",
              "      <td>A11</td>\n",
              "      <td>42</td>\n",
              "      <td>A32</td>\n",
              "      <td>A42</td>\n",
              "      <td>7882</td>\n",
              "      <td>A61</td>\n",
              "      <td>A74</td>\n",
              "      <td>2</td>\n",
              "      <td>A93</td>\n",
              "      <td>A103</td>\n",
              "      <td>...</td>\n",
              "      <td>A122</td>\n",
              "      <td>45</td>\n",
              "      <td>A143</td>\n",
              "      <td>A153</td>\n",
              "      <td>1</td>\n",
              "      <td>A173</td>\n",
              "      <td>2</td>\n",
              "      <td>A191</td>\n",
              "      <td>A201</td>\n",
              "      <td>1</td>\n",
              "    </tr>\n",
              "    <tr>\n",
              "      <th>4</th>\n",
              "      <td>A11</td>\n",
              "      <td>24</td>\n",
              "      <td>A33</td>\n",
              "      <td>A40</td>\n",
              "      <td>4870</td>\n",
              "      <td>A61</td>\n",
              "      <td>A73</td>\n",
              "      <td>3</td>\n",
              "      <td>A93</td>\n",
              "      <td>A101</td>\n",
              "      <td>...</td>\n",
              "      <td>A124</td>\n",
              "      <td>53</td>\n",
              "      <td>A143</td>\n",
              "      <td>A153</td>\n",
              "      <td>2</td>\n",
              "      <td>A173</td>\n",
              "      <td>2</td>\n",
              "      <td>A191</td>\n",
              "      <td>A201</td>\n",
              "      <td>2</td>\n",
              "    </tr>\n",
              "  </tbody>\n",
              "</table>\n",
              "<p>5 rows × 21 columns</p>\n",
              "</div>"
            ],
            "text/plain": [
              "  Status  Duration CreditHistory Purpose  CreditAmount Savings Employment  \\\n",
              "0    A11         6           A34     A43          1169     A65        A75   \n",
              "1    A12        48           A32     A43          5951     A61        A73   \n",
              "2    A14        12           A34     A46          2096     A61        A74   \n",
              "3    A11        42           A32     A42          7882     A61        A74   \n",
              "4    A11        24           A33     A40          4870     A61        A73   \n",
              "\n",
              "   InstallmentRate PersonalStatus OtherDebtors  ...  Property Age  \\\n",
              "0                4            A93         A101  ...      A121  67   \n",
              "1                2            A92         A101  ...      A121  22   \n",
              "2                2            A93         A101  ...      A121  49   \n",
              "3                2            A93         A103  ...      A122  45   \n",
              "4                3            A93         A101  ...      A124  53   \n",
              "\n",
              "   OtherInstallments Housing ExistingCredits   Job NumberDependents  \\\n",
              "0               A143    A152               2  A173                1   \n",
              "1               A143    A152               1  A173                1   \n",
              "2               A143    A152               1  A172                2   \n",
              "3               A143    A153               1  A173                2   \n",
              "4               A143    A153               2  A173                2   \n",
              "\n",
              "   Telephone ForeignWorker Target  \n",
              "0       A192          A201      1  \n",
              "1       A191          A201      2  \n",
              "2       A191          A201      1  \n",
              "3       A191          A201      1  \n",
              "4       A191          A201      2  \n",
              "\n",
              "[5 rows x 21 columns]"
            ]
          },
          "execution_count": 47,
          "metadata": {},
          "output_type": "execute_result"
        }
      ],
      "source": [
        "df.head()"
      ]
    },
    {
      "cell_type": "code",
      "execution_count": 48,
      "metadata": {
        "colab": {
          "base_uri": "https://localhost:8080/"
        },
        "id": "Cdzpi5SKgRFm",
        "outputId": "d30b23b0-b356-48f3-c386-118af26e8448"
      },
      "outputs": [
        {
          "data": {
            "text/plain": [
              "(1000, 21)"
            ]
          },
          "execution_count": 48,
          "metadata": {},
          "output_type": "execute_result"
        }
      ],
      "source": [
        "df.shape"
      ]
    },
    {
      "cell_type": "code",
      "execution_count": 49,
      "metadata": {},
      "outputs": [
        {
          "data": {
            "text/plain": [
              "Index(['Status', 'Duration', 'CreditHistory', 'Purpose', 'CreditAmount',\n",
              "       'Savings', 'Employment', 'InstallmentRate', 'PersonalStatus',\n",
              "       'OtherDebtors', 'ResidenceDuration', 'Property', 'Age',\n",
              "       'OtherInstallments', 'Housing', 'ExistingCredits', 'Job',\n",
              "       'NumberDependents', 'Telephone', 'ForeignWorker', 'Target'],\n",
              "      dtype='object')"
            ]
          },
          "execution_count": 49,
          "metadata": {},
          "output_type": "execute_result"
        }
      ],
      "source": [
        "df.columns"
      ]
    },
    {
      "cell_type": "code",
      "execution_count": 50,
      "metadata": {},
      "outputs": [],
      "source": [
        "strings = list(df.dtypes[df.dtypes == 'object'].index)\n",
        "for col in strings:\n",
        "    df[col] = df[col].str.lower().str.strip().str.replace(' ', '_')"
      ]
    },
    {
      "cell_type": "code",
      "execution_count": 51,
      "metadata": {},
      "outputs": [],
      "source": [
        "df.columns = (df.columns\n",
        "              .str.replace(r'(?<!^)(?=[A-Z])', '_', regex=True)\n",
        "              .str.lower()\n",
        "              .str.replace(' ', '_')\n",
        "              .str.strip())"
      ]
    },
    {
      "cell_type": "code",
      "execution_count": 52,
      "metadata": {},
      "outputs": [
        {
          "data": {
            "text/html": [
              "<div>\n",
              "<style scoped>\n",
              "    .dataframe tbody tr th:only-of-type {\n",
              "        vertical-align: middle;\n",
              "    }\n",
              "\n",
              "    .dataframe tbody tr th {\n",
              "        vertical-align: top;\n",
              "    }\n",
              "\n",
              "    .dataframe thead th {\n",
              "        text-align: right;\n",
              "    }\n",
              "</style>\n",
              "<table border=\"1\" class=\"dataframe\">\n",
              "  <thead>\n",
              "    <tr style=\"text-align: right;\">\n",
              "      <th></th>\n",
              "      <th>status</th>\n",
              "      <th>duration</th>\n",
              "      <th>credit_history</th>\n",
              "      <th>purpose</th>\n",
              "      <th>credit_amount</th>\n",
              "      <th>savings</th>\n",
              "      <th>employment</th>\n",
              "      <th>installment_rate</th>\n",
              "      <th>personal_status</th>\n",
              "      <th>other_debtors</th>\n",
              "      <th>...</th>\n",
              "      <th>property</th>\n",
              "      <th>age</th>\n",
              "      <th>other_installments</th>\n",
              "      <th>housing</th>\n",
              "      <th>existing_credits</th>\n",
              "      <th>job</th>\n",
              "      <th>number_dependents</th>\n",
              "      <th>telephone</th>\n",
              "      <th>foreign_worker</th>\n",
              "      <th>target</th>\n",
              "    </tr>\n",
              "  </thead>\n",
              "  <tbody>\n",
              "    <tr>\n",
              "      <th>0</th>\n",
              "      <td>a11</td>\n",
              "      <td>6</td>\n",
              "      <td>a34</td>\n",
              "      <td>a43</td>\n",
              "      <td>1169</td>\n",
              "      <td>a65</td>\n",
              "      <td>a75</td>\n",
              "      <td>4</td>\n",
              "      <td>a93</td>\n",
              "      <td>a101</td>\n",
              "      <td>...</td>\n",
              "      <td>a121</td>\n",
              "      <td>67</td>\n",
              "      <td>a143</td>\n",
              "      <td>a152</td>\n",
              "      <td>2</td>\n",
              "      <td>a173</td>\n",
              "      <td>1</td>\n",
              "      <td>a192</td>\n",
              "      <td>a201</td>\n",
              "      <td>1</td>\n",
              "    </tr>\n",
              "    <tr>\n",
              "      <th>1</th>\n",
              "      <td>a12</td>\n",
              "      <td>48</td>\n",
              "      <td>a32</td>\n",
              "      <td>a43</td>\n",
              "      <td>5951</td>\n",
              "      <td>a61</td>\n",
              "      <td>a73</td>\n",
              "      <td>2</td>\n",
              "      <td>a92</td>\n",
              "      <td>a101</td>\n",
              "      <td>...</td>\n",
              "      <td>a121</td>\n",
              "      <td>22</td>\n",
              "      <td>a143</td>\n",
              "      <td>a152</td>\n",
              "      <td>1</td>\n",
              "      <td>a173</td>\n",
              "      <td>1</td>\n",
              "      <td>a191</td>\n",
              "      <td>a201</td>\n",
              "      <td>2</td>\n",
              "    </tr>\n",
              "    <tr>\n",
              "      <th>2</th>\n",
              "      <td>a14</td>\n",
              "      <td>12</td>\n",
              "      <td>a34</td>\n",
              "      <td>a46</td>\n",
              "      <td>2096</td>\n",
              "      <td>a61</td>\n",
              "      <td>a74</td>\n",
              "      <td>2</td>\n",
              "      <td>a93</td>\n",
              "      <td>a101</td>\n",
              "      <td>...</td>\n",
              "      <td>a121</td>\n",
              "      <td>49</td>\n",
              "      <td>a143</td>\n",
              "      <td>a152</td>\n",
              "      <td>1</td>\n",
              "      <td>a172</td>\n",
              "      <td>2</td>\n",
              "      <td>a191</td>\n",
              "      <td>a201</td>\n",
              "      <td>1</td>\n",
              "    </tr>\n",
              "    <tr>\n",
              "      <th>3</th>\n",
              "      <td>a11</td>\n",
              "      <td>42</td>\n",
              "      <td>a32</td>\n",
              "      <td>a42</td>\n",
              "      <td>7882</td>\n",
              "      <td>a61</td>\n",
              "      <td>a74</td>\n",
              "      <td>2</td>\n",
              "      <td>a93</td>\n",
              "      <td>a103</td>\n",
              "      <td>...</td>\n",
              "      <td>a122</td>\n",
              "      <td>45</td>\n",
              "      <td>a143</td>\n",
              "      <td>a153</td>\n",
              "      <td>1</td>\n",
              "      <td>a173</td>\n",
              "      <td>2</td>\n",
              "      <td>a191</td>\n",
              "      <td>a201</td>\n",
              "      <td>1</td>\n",
              "    </tr>\n",
              "    <tr>\n",
              "      <th>4</th>\n",
              "      <td>a11</td>\n",
              "      <td>24</td>\n",
              "      <td>a33</td>\n",
              "      <td>a40</td>\n",
              "      <td>4870</td>\n",
              "      <td>a61</td>\n",
              "      <td>a73</td>\n",
              "      <td>3</td>\n",
              "      <td>a93</td>\n",
              "      <td>a101</td>\n",
              "      <td>...</td>\n",
              "      <td>a124</td>\n",
              "      <td>53</td>\n",
              "      <td>a143</td>\n",
              "      <td>a153</td>\n",
              "      <td>2</td>\n",
              "      <td>a173</td>\n",
              "      <td>2</td>\n",
              "      <td>a191</td>\n",
              "      <td>a201</td>\n",
              "      <td>2</td>\n",
              "    </tr>\n",
              "  </tbody>\n",
              "</table>\n",
              "<p>5 rows × 21 columns</p>\n",
              "</div>"
            ],
            "text/plain": [
              "  status  duration credit_history purpose  credit_amount savings employment  \\\n",
              "0    a11         6            a34     a43           1169     a65        a75   \n",
              "1    a12        48            a32     a43           5951     a61        a73   \n",
              "2    a14        12            a34     a46           2096     a61        a74   \n",
              "3    a11        42            a32     a42           7882     a61        a74   \n",
              "4    a11        24            a33     a40           4870     a61        a73   \n",
              "\n",
              "   installment_rate personal_status other_debtors  ...  property age  \\\n",
              "0                 4             a93          a101  ...      a121  67   \n",
              "1                 2             a92          a101  ...      a121  22   \n",
              "2                 2             a93          a101  ...      a121  49   \n",
              "3                 2             a93          a103  ...      a122  45   \n",
              "4                 3             a93          a101  ...      a124  53   \n",
              "\n",
              "   other_installments housing existing_credits   job number_dependents  \\\n",
              "0                a143    a152                2  a173                 1   \n",
              "1                a143    a152                1  a173                 1   \n",
              "2                a143    a152                1  a172                 2   \n",
              "3                a143    a153                1  a173                 2   \n",
              "4                a143    a153                2  a173                 2   \n",
              "\n",
              "   telephone foreign_worker target  \n",
              "0       a192           a201      1  \n",
              "1       a191           a201      2  \n",
              "2       a191           a201      1  \n",
              "3       a191           a201      1  \n",
              "4       a191           a201      2  \n",
              "\n",
              "[5 rows x 21 columns]"
            ]
          },
          "execution_count": 52,
          "metadata": {},
          "output_type": "execute_result"
        }
      ],
      "source": [
        "df.head()"
      ]
    },
    {
      "cell_type": "code",
      "execution_count": 53,
      "metadata": {},
      "outputs": [
        {
          "data": {
            "text/plain": [
              "(1000, 21)"
            ]
          },
          "execution_count": 53,
          "metadata": {},
          "output_type": "execute_result"
        }
      ],
      "source": [
        "df.shape"
      ]
    },
    {
      "cell_type": "markdown",
      "metadata": {
        "id": "WCBnCj9mOuYf"
      },
      "source": [
        "## EDA."
      ]
    },
    {
      "cell_type": "markdown",
      "metadata": {
        "id": "BksPxapghCU-"
      },
      "source": [
        "Transform the income target column."
      ]
    },
    {
      "cell_type": "code",
      "execution_count": 55,
      "metadata": {},
      "outputs": [
        {
          "data": {
            "text/plain": [
              "target\n",
              "1    700\n",
              "2    300\n",
              "Name: count, dtype: int64"
            ]
          },
          "execution_count": 55,
          "metadata": {},
          "output_type": "execute_result"
        }
      ],
      "source": [
        "df.target.value_counts()"
      ]
    },
    {
      "cell_type": "code",
      "execution_count": 56,
      "metadata": {
        "id": "5bqMUQ5FgaV_"
      },
      "outputs": [],
      "source": [
        "df['target'] = df['target'].apply(lambda x: 0 if x == 1 else 1)"
      ]
    },
    {
      "cell_type": "code",
      "execution_count": 57,
      "metadata": {
        "colab": {
          "base_uri": "https://localhost:8080/"
        },
        "id": "uRs7oOk3gol9",
        "outputId": "01549f48-b41e-4b0d-b621-729b2104fba3"
      },
      "outputs": [
        {
          "name": "stdout",
          "output_type": "stream",
          "text": [
            "<class 'pandas.core.frame.DataFrame'>\n",
            "RangeIndex: 1000 entries, 0 to 999\n",
            "Data columns (total 21 columns):\n",
            " #   Column              Non-Null Count  Dtype \n",
            "---  ------              --------------  ----- \n",
            " 0   status              1000 non-null   object\n",
            " 1   duration            1000 non-null   int64 \n",
            " 2   credit_history      1000 non-null   object\n",
            " 3   purpose             1000 non-null   object\n",
            " 4   credit_amount       1000 non-null   int64 \n",
            " 5   savings             1000 non-null   object\n",
            " 6   employment          1000 non-null   object\n",
            " 7   installment_rate    1000 non-null   int64 \n",
            " 8   personal_status     1000 non-null   object\n",
            " 9   other_debtors       1000 non-null   object\n",
            " 10  residence_duration  1000 non-null   int64 \n",
            " 11  property            1000 non-null   object\n",
            " 12  age                 1000 non-null   int64 \n",
            " 13  other_installments  1000 non-null   object\n",
            " 14  housing             1000 non-null   object\n",
            " 15  existing_credits    1000 non-null   int64 \n",
            " 16  job                 1000 non-null   object\n",
            " 17  number_dependents   1000 non-null   int64 \n",
            " 18  telephone           1000 non-null   object\n",
            " 19  foreign_worker      1000 non-null   object\n",
            " 20  target              1000 non-null   int64 \n",
            "dtypes: int64(8), object(13)\n",
            "memory usage: 164.2+ KB\n"
          ]
        }
      ],
      "source": [
        "df.info()"
      ]
    },
    {
      "cell_type": "markdown",
      "metadata": {
        "id": "InUNT1Jdg4Q_"
      },
      "source": [
        "There are 20 features to consider for income prediction.\n",
        "\n",
        "The numerical features include duration, credit_amount, installment_rate, residence_duration, age, existing_credits and number_dependents.\n",
        "\n",
        "The categorical features status, credit_history, purpose, savings, employment, personal_status, other_debtors, property, other_installments, housing, job, telephone and foreign_worker."
      ]
    },
    {
      "cell_type": "markdown",
      "metadata": {
        "id": "iAuVO-nth1-u"
      },
      "source": [
        "There is no missing values in the dataset."
      ]
    },
    {
      "cell_type": "code",
      "execution_count": 58,
      "metadata": {
        "colab": {
          "base_uri": "https://localhost:8080/",
          "height": 178
        },
        "id": "Lg7xhySyO2NB",
        "outputId": "d3007027-eb5e-4c77-cdca-200835eba01c"
      },
      "outputs": [
        {
          "data": {
            "text/plain": [
              "target\n",
              "0    0.7\n",
              "1    0.3\n",
              "Name: proportion, dtype: float64"
            ]
          },
          "execution_count": 58,
          "metadata": {},
          "output_type": "execute_result"
        }
      ],
      "source": [
        "df.target.value_counts(normalize=True)"
      ]
    },
    {
      "cell_type": "code",
      "execution_count": 60,
      "metadata": {
        "colab": {
          "base_uri": "https://localhost:8080/"
        },
        "id": "7g_Gl8NyPFWu",
        "outputId": "2a29b68f-e760-4c8d-a250-4186b67586d9"
      },
      "outputs": [
        {
          "data": {
            "text/plain": [
              "np.float64(0.3)"
            ]
          },
          "execution_count": 60,
          "metadata": {},
          "output_type": "execute_result"
        }
      ],
      "source": [
        "df.target.mean()"
      ]
    },
    {
      "cell_type": "code",
      "execution_count": 61,
      "metadata": {
        "id": "OfLtfzI4NgKE"
      },
      "outputs": [],
      "source": [
        "numerical = ['duration', 'credit_amount', 'installment_rate', 'residence_duration', 'age',\n",
        "             'existing_credits', 'number_dependents']"
      ]
    },
    {
      "cell_type": "code",
      "execution_count": 62,
      "metadata": {
        "id": "kPqiN9dLN61k"
      },
      "outputs": [],
      "source": [
        "categorical = ['status', 'credit_history', 'purpose', 'savings',\n",
        "               'employment', 'personal_status', 'property', 'other_installments',\n",
        "               'housing', 'job', 'foreign_worker']"
      ]
    },
    {
      "cell_type": "code",
      "execution_count": 63,
      "metadata": {
        "colab": {
          "base_uri": "https://localhost:8080/",
          "height": 335
        },
        "id": "XRuVFu9XOCyb",
        "outputId": "3c5428d6-bf09-44c8-dd0d-8d9540afa04e"
      },
      "outputs": [
        {
          "data": {
            "text/plain": [
              "status                 4\n",
              "credit_history         5\n",
              "purpose               10\n",
              "savings                5\n",
              "employment             5\n",
              "personal_status        4\n",
              "property               4\n",
              "other_installments     3\n",
              "housing                3\n",
              "job                    4\n",
              "foreign_worker         2\n",
              "dtype: int64"
            ]
          },
          "execution_count": 63,
          "metadata": {},
          "output_type": "execute_result"
        }
      ],
      "source": [
        "df[categorical].nunique()"
      ]
    },
    {
      "cell_type": "markdown",
      "metadata": {
        "id": "lrceMzwRc2ap"
      },
      "source": [
        "## Feature importance. Credit Score Rate and Credit Score Ratio."
      ]
    },
    {
      "cell_type": "markdown",
      "metadata": {},
      "source": [
        "The target 0 is good credit risk, 1 is bad credit risk."
      ]
    },
    {
      "cell_type": "code",
      "execution_count": 64,
      "metadata": {
        "colab": {
          "base_uri": "https://localhost:8080/",
          "height": 206
        },
        "id": "TjyVf6jgeAUA",
        "outputId": "bc6d9010-5591-4e22-a6d6-672111785c1b"
      },
      "outputs": [
        {
          "data": {
            "text/html": [
              "<div>\n",
              "<style scoped>\n",
              "    .dataframe tbody tr th:only-of-type {\n",
              "        vertical-align: middle;\n",
              "    }\n",
              "\n",
              "    .dataframe tbody tr th {\n",
              "        vertical-align: top;\n",
              "    }\n",
              "\n",
              "    .dataframe thead th {\n",
              "        text-align: right;\n",
              "    }\n",
              "</style>\n",
              "<table border=\"1\" class=\"dataframe\">\n",
              "  <thead>\n",
              "    <tr style=\"text-align: right;\">\n",
              "      <th></th>\n",
              "      <th>status</th>\n",
              "      <th>duration</th>\n",
              "      <th>credit_history</th>\n",
              "      <th>purpose</th>\n",
              "      <th>credit_amount</th>\n",
              "      <th>savings</th>\n",
              "      <th>employment</th>\n",
              "      <th>installment_rate</th>\n",
              "      <th>personal_status</th>\n",
              "      <th>other_debtors</th>\n",
              "      <th>...</th>\n",
              "      <th>property</th>\n",
              "      <th>age</th>\n",
              "      <th>other_installments</th>\n",
              "      <th>housing</th>\n",
              "      <th>existing_credits</th>\n",
              "      <th>job</th>\n",
              "      <th>number_dependents</th>\n",
              "      <th>telephone</th>\n",
              "      <th>foreign_worker</th>\n",
              "      <th>target</th>\n",
              "    </tr>\n",
              "  </thead>\n",
              "  <tbody>\n",
              "    <tr>\n",
              "      <th>0</th>\n",
              "      <td>a11</td>\n",
              "      <td>6</td>\n",
              "      <td>a34</td>\n",
              "      <td>a43</td>\n",
              "      <td>1169</td>\n",
              "      <td>a65</td>\n",
              "      <td>a75</td>\n",
              "      <td>4</td>\n",
              "      <td>a93</td>\n",
              "      <td>a101</td>\n",
              "      <td>...</td>\n",
              "      <td>a121</td>\n",
              "      <td>67</td>\n",
              "      <td>a143</td>\n",
              "      <td>a152</td>\n",
              "      <td>2</td>\n",
              "      <td>a173</td>\n",
              "      <td>1</td>\n",
              "      <td>a192</td>\n",
              "      <td>a201</td>\n",
              "      <td>0</td>\n",
              "    </tr>\n",
              "    <tr>\n",
              "      <th>1</th>\n",
              "      <td>a12</td>\n",
              "      <td>48</td>\n",
              "      <td>a32</td>\n",
              "      <td>a43</td>\n",
              "      <td>5951</td>\n",
              "      <td>a61</td>\n",
              "      <td>a73</td>\n",
              "      <td>2</td>\n",
              "      <td>a92</td>\n",
              "      <td>a101</td>\n",
              "      <td>...</td>\n",
              "      <td>a121</td>\n",
              "      <td>22</td>\n",
              "      <td>a143</td>\n",
              "      <td>a152</td>\n",
              "      <td>1</td>\n",
              "      <td>a173</td>\n",
              "      <td>1</td>\n",
              "      <td>a191</td>\n",
              "      <td>a201</td>\n",
              "      <td>1</td>\n",
              "    </tr>\n",
              "    <tr>\n",
              "      <th>2</th>\n",
              "      <td>a14</td>\n",
              "      <td>12</td>\n",
              "      <td>a34</td>\n",
              "      <td>a46</td>\n",
              "      <td>2096</td>\n",
              "      <td>a61</td>\n",
              "      <td>a74</td>\n",
              "      <td>2</td>\n",
              "      <td>a93</td>\n",
              "      <td>a101</td>\n",
              "      <td>...</td>\n",
              "      <td>a121</td>\n",
              "      <td>49</td>\n",
              "      <td>a143</td>\n",
              "      <td>a152</td>\n",
              "      <td>1</td>\n",
              "      <td>a172</td>\n",
              "      <td>2</td>\n",
              "      <td>a191</td>\n",
              "      <td>a201</td>\n",
              "      <td>0</td>\n",
              "    </tr>\n",
              "    <tr>\n",
              "      <th>3</th>\n",
              "      <td>a11</td>\n",
              "      <td>42</td>\n",
              "      <td>a32</td>\n",
              "      <td>a42</td>\n",
              "      <td>7882</td>\n",
              "      <td>a61</td>\n",
              "      <td>a74</td>\n",
              "      <td>2</td>\n",
              "      <td>a93</td>\n",
              "      <td>a103</td>\n",
              "      <td>...</td>\n",
              "      <td>a122</td>\n",
              "      <td>45</td>\n",
              "      <td>a143</td>\n",
              "      <td>a153</td>\n",
              "      <td>1</td>\n",
              "      <td>a173</td>\n",
              "      <td>2</td>\n",
              "      <td>a191</td>\n",
              "      <td>a201</td>\n",
              "      <td>0</td>\n",
              "    </tr>\n",
              "    <tr>\n",
              "      <th>4</th>\n",
              "      <td>a11</td>\n",
              "      <td>24</td>\n",
              "      <td>a33</td>\n",
              "      <td>a40</td>\n",
              "      <td>4870</td>\n",
              "      <td>a61</td>\n",
              "      <td>a73</td>\n",
              "      <td>3</td>\n",
              "      <td>a93</td>\n",
              "      <td>a101</td>\n",
              "      <td>...</td>\n",
              "      <td>a124</td>\n",
              "      <td>53</td>\n",
              "      <td>a143</td>\n",
              "      <td>a153</td>\n",
              "      <td>2</td>\n",
              "      <td>a173</td>\n",
              "      <td>2</td>\n",
              "      <td>a191</td>\n",
              "      <td>a201</td>\n",
              "      <td>1</td>\n",
              "    </tr>\n",
              "  </tbody>\n",
              "</table>\n",
              "<p>5 rows × 21 columns</p>\n",
              "</div>"
            ],
            "text/plain": [
              "  status  duration credit_history purpose  credit_amount savings employment  \\\n",
              "0    a11         6            a34     a43           1169     a65        a75   \n",
              "1    a12        48            a32     a43           5951     a61        a73   \n",
              "2    a14        12            a34     a46           2096     a61        a74   \n",
              "3    a11        42            a32     a42           7882     a61        a74   \n",
              "4    a11        24            a33     a40           4870     a61        a73   \n",
              "\n",
              "   installment_rate personal_status other_debtors  ...  property age  \\\n",
              "0                 4             a93          a101  ...      a121  67   \n",
              "1                 2             a92          a101  ...      a121  22   \n",
              "2                 2             a93          a101  ...      a121  49   \n",
              "3                 2             a93          a103  ...      a122  45   \n",
              "4                 3             a93          a101  ...      a124  53   \n",
              "\n",
              "   other_installments housing existing_credits   job number_dependents  \\\n",
              "0                a143    a152                2  a173                 1   \n",
              "1                a143    a152                1  a173                 1   \n",
              "2                a143    a152                1  a172                 2   \n",
              "3                a143    a153                1  a173                 2   \n",
              "4                a143    a153                2  a173                 2   \n",
              "\n",
              "   telephone foreign_worker target  \n",
              "0       a192           a201      0  \n",
              "1       a191           a201      1  \n",
              "2       a191           a201      0  \n",
              "3       a191           a201      0  \n",
              "4       a191           a201      1  \n",
              "\n",
              "[5 rows x 21 columns]"
            ]
          },
          "execution_count": 64,
          "metadata": {},
          "output_type": "execute_result"
        }
      ],
      "source": [
        "df.head()"
      ]
    },
    {
      "cell_type": "code",
      "execution_count": 67,
      "metadata": {},
      "outputs": [
        {
          "data": {
            "text/plain": [
              "personal_status\n",
              "a93    548\n",
              "a92    310\n",
              "a94     92\n",
              "a91     50\n",
              "Name: count, dtype: int64"
            ]
          },
          "execution_count": 67,
          "metadata": {},
          "output_type": "execute_result"
        }
      ],
      "source": [
        "df.personal_status.value_counts()"
      ]
    },
    {
      "cell_type": "code",
      "execution_count": 68,
      "metadata": {
        "colab": {
          "base_uri": "https://localhost:8080/"
        },
        "id": "3Zdavs1IeR7L",
        "outputId": "cdeccdab-bab2-4a90-a748-7a547b89b02d"
      },
      "outputs": [
        {
          "data": {
            "text/plain": [
              "np.float64(0.35161290322580646)"
            ]
          },
          "execution_count": 68,
          "metadata": {},
          "output_type": "execute_result"
        }
      ],
      "source": [
        "target_female = df[df.personal_status == 'a92'].target.mean()\n",
        "target_female"
      ]
    },
    {
      "cell_type": "code",
      "execution_count": 69,
      "metadata": {
        "colab": {
          "base_uri": "https://localhost:8080/"
        },
        "id": "Z0rHfhgtf5sw",
        "outputId": "04266902-51ab-49ea-826f-a283337ade26"
      },
      "outputs": [
        {
          "data": {
            "text/plain": [
              "np.float64(0.2664233576642336)"
            ]
          },
          "execution_count": 69,
          "metadata": {},
          "output_type": "execute_result"
        }
      ],
      "source": [
        "target_male_single = df[df.personal_status == 'a93'].target.mean()\n",
        "target_male_single"
      ]
    },
    {
      "cell_type": "code",
      "execution_count": 70,
      "metadata": {},
      "outputs": [
        {
          "data": {
            "text/plain": [
              "np.float64(0.2717391304347826)"
            ]
          },
          "execution_count": 70,
          "metadata": {},
          "output_type": "execute_result"
        }
      ],
      "source": [
        "target_male_married_widowed = df[df.personal_status == 'a94'].target.mean()\n",
        "target_male_married_widowed"
      ]
    },
    {
      "cell_type": "code",
      "execution_count": 72,
      "metadata": {
        "colab": {
          "base_uri": "https://localhost:8080/"
        },
        "id": "CBm7JODMgd0c",
        "outputId": "89a409a5-71d0-423c-bfc0-e5fa61ac66fa"
      },
      "outputs": [
        {
          "data": {
            "text/plain": [
              "np.float64(0.7)"
            ]
          },
          "execution_count": 72,
          "metadata": {},
          "output_type": "execute_result"
        }
      ],
      "source": [
        "global_good_credit = 1 - df.target.mean()\n",
        "global_good_credit"
      ]
    },
    {
      "cell_type": "code",
      "execution_count": 73,
      "metadata": {
        "colab": {
          "base_uri": "https://localhost:8080/"
        },
        "id": "HQfUoZQQhVKl",
        "outputId": "53c667ae-b753-4fd3-cc87-98dfbb82db16"
      },
      "outputs": [
        {
          "data": {
            "text/plain": [
              "np.float64(0.3483870967741935)"
            ]
          },
          "execution_count": 73,
          "metadata": {},
          "output_type": "execute_result"
        }
      ],
      "source": [
        "global_good_credit - target_female"
      ]
    },
    {
      "cell_type": "code",
      "execution_count": 74,
      "metadata": {
        "colab": {
          "base_uri": "https://localhost:8080/"
        },
        "id": "IyZfOamUhYiR",
        "outputId": "104a5335-c7cb-485f-db8d-57089cb1f7eb"
      },
      "outputs": [
        {
          "data": {
            "text/plain": [
              "np.float64(0.43357664233576637)"
            ]
          },
          "execution_count": 74,
          "metadata": {},
          "output_type": "execute_result"
        }
      ],
      "source": [
        "global_good_credit - target_male_single"
      ]
    },
    {
      "cell_type": "code",
      "execution_count": 75,
      "metadata": {},
      "outputs": [
        {
          "data": {
            "text/plain": [
              "np.float64(0.42826086956521736)"
            ]
          },
          "execution_count": 75,
          "metadata": {},
          "output_type": "execute_result"
        }
      ],
      "source": [
        "global_good_credit - target_male_married_widowed"
      ]
    },
    {
      "cell_type": "code",
      "execution_count": 78,
      "metadata": {
        "colab": {
          "base_uri": "https://localhost:8080/",
          "height": 1000
        },
        "id": "9_NsrJuHJBg1",
        "outputId": "21a62b8a-c7d6-4f47-8b8b-e0b6d9c90eb3"
      },
      "outputs": [
        {
          "name": "stdout",
          "output_type": "stream",
          "text": [
            "status\n"
          ]
        },
        {
          "data": {
            "text/html": [
              "<div>\n",
              "<style scoped>\n",
              "    .dataframe tbody tr th:only-of-type {\n",
              "        vertical-align: middle;\n",
              "    }\n",
              "\n",
              "    .dataframe tbody tr th {\n",
              "        vertical-align: top;\n",
              "    }\n",
              "\n",
              "    .dataframe thead th {\n",
              "        text-align: right;\n",
              "    }\n",
              "</style>\n",
              "<table border=\"1\" class=\"dataframe\">\n",
              "  <thead>\n",
              "    <tr style=\"text-align: right;\">\n",
              "      <th></th>\n",
              "      <th>mean</th>\n",
              "      <th>count</th>\n",
              "      <th>diff</th>\n",
              "      <th>risk</th>\n",
              "    </tr>\n",
              "    <tr>\n",
              "      <th>status</th>\n",
              "      <th></th>\n",
              "      <th></th>\n",
              "      <th></th>\n",
              "      <th></th>\n",
              "    </tr>\n",
              "  </thead>\n",
              "  <tbody>\n",
              "    <tr>\n",
              "      <th>a11</th>\n",
              "      <td>0.492701</td>\n",
              "      <td>274</td>\n",
              "      <td>-0.207299</td>\n",
              "      <td>0.703858</td>\n",
              "    </tr>\n",
              "    <tr>\n",
              "      <th>a12</th>\n",
              "      <td>0.390335</td>\n",
              "      <td>269</td>\n",
              "      <td>-0.309665</td>\n",
              "      <td>0.557621</td>\n",
              "    </tr>\n",
              "    <tr>\n",
              "      <th>a13</th>\n",
              "      <td>0.222222</td>\n",
              "      <td>63</td>\n",
              "      <td>-0.477778</td>\n",
              "      <td>0.317460</td>\n",
              "    </tr>\n",
              "    <tr>\n",
              "      <th>a14</th>\n",
              "      <td>0.116751</td>\n",
              "      <td>394</td>\n",
              "      <td>-0.583249</td>\n",
              "      <td>0.166788</td>\n",
              "    </tr>\n",
              "  </tbody>\n",
              "</table>\n",
              "</div>"
            ],
            "text/plain": [
              "            mean  count      diff      risk\n",
              "status                                     \n",
              "a11     0.492701    274 -0.207299  0.703858\n",
              "a12     0.390335    269 -0.309665  0.557621\n",
              "a13     0.222222     63 -0.477778  0.317460\n",
              "a14     0.116751    394 -0.583249  0.166788"
            ]
          },
          "metadata": {},
          "output_type": "display_data"
        },
        {
          "name": "stdout",
          "output_type": "stream",
          "text": [
            "\n",
            "\n",
            "credit_history\n"
          ]
        },
        {
          "data": {
            "text/html": [
              "<div>\n",
              "<style scoped>\n",
              "    .dataframe tbody tr th:only-of-type {\n",
              "        vertical-align: middle;\n",
              "    }\n",
              "\n",
              "    .dataframe tbody tr th {\n",
              "        vertical-align: top;\n",
              "    }\n",
              "\n",
              "    .dataframe thead th {\n",
              "        text-align: right;\n",
              "    }\n",
              "</style>\n",
              "<table border=\"1\" class=\"dataframe\">\n",
              "  <thead>\n",
              "    <tr style=\"text-align: right;\">\n",
              "      <th></th>\n",
              "      <th>mean</th>\n",
              "      <th>count</th>\n",
              "      <th>diff</th>\n",
              "      <th>risk</th>\n",
              "    </tr>\n",
              "    <tr>\n",
              "      <th>credit_history</th>\n",
              "      <th></th>\n",
              "      <th></th>\n",
              "      <th></th>\n",
              "      <th></th>\n",
              "    </tr>\n",
              "  </thead>\n",
              "  <tbody>\n",
              "    <tr>\n",
              "      <th>a30</th>\n",
              "      <td>0.625000</td>\n",
              "      <td>40</td>\n",
              "      <td>-0.075000</td>\n",
              "      <td>0.892857</td>\n",
              "    </tr>\n",
              "    <tr>\n",
              "      <th>a31</th>\n",
              "      <td>0.571429</td>\n",
              "      <td>49</td>\n",
              "      <td>-0.128571</td>\n",
              "      <td>0.816327</td>\n",
              "    </tr>\n",
              "    <tr>\n",
              "      <th>a32</th>\n",
              "      <td>0.318868</td>\n",
              "      <td>530</td>\n",
              "      <td>-0.381132</td>\n",
              "      <td>0.455526</td>\n",
              "    </tr>\n",
              "    <tr>\n",
              "      <th>a33</th>\n",
              "      <td>0.318182</td>\n",
              "      <td>88</td>\n",
              "      <td>-0.381818</td>\n",
              "      <td>0.454545</td>\n",
              "    </tr>\n",
              "    <tr>\n",
              "      <th>a34</th>\n",
              "      <td>0.170648</td>\n",
              "      <td>293</td>\n",
              "      <td>-0.529352</td>\n",
              "      <td>0.243784</td>\n",
              "    </tr>\n",
              "  </tbody>\n",
              "</table>\n",
              "</div>"
            ],
            "text/plain": [
              "                    mean  count      diff      risk\n",
              "credit_history                                     \n",
              "a30             0.625000     40 -0.075000  0.892857\n",
              "a31             0.571429     49 -0.128571  0.816327\n",
              "a32             0.318868    530 -0.381132  0.455526\n",
              "a33             0.318182     88 -0.381818  0.454545\n",
              "a34             0.170648    293 -0.529352  0.243784"
            ]
          },
          "metadata": {},
          "output_type": "display_data"
        },
        {
          "name": "stdout",
          "output_type": "stream",
          "text": [
            "\n",
            "\n",
            "purpose\n"
          ]
        },
        {
          "data": {
            "text/html": [
              "<div>\n",
              "<style scoped>\n",
              "    .dataframe tbody tr th:only-of-type {\n",
              "        vertical-align: middle;\n",
              "    }\n",
              "\n",
              "    .dataframe tbody tr th {\n",
              "        vertical-align: top;\n",
              "    }\n",
              "\n",
              "    .dataframe thead th {\n",
              "        text-align: right;\n",
              "    }\n",
              "</style>\n",
              "<table border=\"1\" class=\"dataframe\">\n",
              "  <thead>\n",
              "    <tr style=\"text-align: right;\">\n",
              "      <th></th>\n",
              "      <th>mean</th>\n",
              "      <th>count</th>\n",
              "      <th>diff</th>\n",
              "      <th>risk</th>\n",
              "    </tr>\n",
              "    <tr>\n",
              "      <th>purpose</th>\n",
              "      <th></th>\n",
              "      <th></th>\n",
              "      <th></th>\n",
              "      <th></th>\n",
              "    </tr>\n",
              "  </thead>\n",
              "  <tbody>\n",
              "    <tr>\n",
              "      <th>a40</th>\n",
              "      <td>0.380342</td>\n",
              "      <td>234</td>\n",
              "      <td>-0.319658</td>\n",
              "      <td>0.543346</td>\n",
              "    </tr>\n",
              "    <tr>\n",
              "      <th>a41</th>\n",
              "      <td>0.165049</td>\n",
              "      <td>103</td>\n",
              "      <td>-0.534951</td>\n",
              "      <td>0.235784</td>\n",
              "    </tr>\n",
              "    <tr>\n",
              "      <th>a410</th>\n",
              "      <td>0.416667</td>\n",
              "      <td>12</td>\n",
              "      <td>-0.283333</td>\n",
              "      <td>0.595238</td>\n",
              "    </tr>\n",
              "    <tr>\n",
              "      <th>a42</th>\n",
              "      <td>0.320442</td>\n",
              "      <td>181</td>\n",
              "      <td>-0.379558</td>\n",
              "      <td>0.457774</td>\n",
              "    </tr>\n",
              "    <tr>\n",
              "      <th>a43</th>\n",
              "      <td>0.221429</td>\n",
              "      <td>280</td>\n",
              "      <td>-0.478571</td>\n",
              "      <td>0.316327</td>\n",
              "    </tr>\n",
              "    <tr>\n",
              "      <th>a44</th>\n",
              "      <td>0.333333</td>\n",
              "      <td>12</td>\n",
              "      <td>-0.366667</td>\n",
              "      <td>0.476190</td>\n",
              "    </tr>\n",
              "    <tr>\n",
              "      <th>a45</th>\n",
              "      <td>0.363636</td>\n",
              "      <td>22</td>\n",
              "      <td>-0.336364</td>\n",
              "      <td>0.519481</td>\n",
              "    </tr>\n",
              "    <tr>\n",
              "      <th>a46</th>\n",
              "      <td>0.440000</td>\n",
              "      <td>50</td>\n",
              "      <td>-0.260000</td>\n",
              "      <td>0.628571</td>\n",
              "    </tr>\n",
              "    <tr>\n",
              "      <th>a48</th>\n",
              "      <td>0.111111</td>\n",
              "      <td>9</td>\n",
              "      <td>-0.588889</td>\n",
              "      <td>0.158730</td>\n",
              "    </tr>\n",
              "    <tr>\n",
              "      <th>a49</th>\n",
              "      <td>0.350515</td>\n",
              "      <td>97</td>\n",
              "      <td>-0.349485</td>\n",
              "      <td>0.500736</td>\n",
              "    </tr>\n",
              "  </tbody>\n",
              "</table>\n",
              "</div>"
            ],
            "text/plain": [
              "             mean  count      diff      risk\n",
              "purpose                                     \n",
              "a40      0.380342    234 -0.319658  0.543346\n",
              "a41      0.165049    103 -0.534951  0.235784\n",
              "a410     0.416667     12 -0.283333  0.595238\n",
              "a42      0.320442    181 -0.379558  0.457774\n",
              "a43      0.221429    280 -0.478571  0.316327\n",
              "a44      0.333333     12 -0.366667  0.476190\n",
              "a45      0.363636     22 -0.336364  0.519481\n",
              "a46      0.440000     50 -0.260000  0.628571\n",
              "a48      0.111111      9 -0.588889  0.158730\n",
              "a49      0.350515     97 -0.349485  0.500736"
            ]
          },
          "metadata": {},
          "output_type": "display_data"
        },
        {
          "name": "stdout",
          "output_type": "stream",
          "text": [
            "\n",
            "\n",
            "savings\n"
          ]
        },
        {
          "data": {
            "text/html": [
              "<div>\n",
              "<style scoped>\n",
              "    .dataframe tbody tr th:only-of-type {\n",
              "        vertical-align: middle;\n",
              "    }\n",
              "\n",
              "    .dataframe tbody tr th {\n",
              "        vertical-align: top;\n",
              "    }\n",
              "\n",
              "    .dataframe thead th {\n",
              "        text-align: right;\n",
              "    }\n",
              "</style>\n",
              "<table border=\"1\" class=\"dataframe\">\n",
              "  <thead>\n",
              "    <tr style=\"text-align: right;\">\n",
              "      <th></th>\n",
              "      <th>mean</th>\n",
              "      <th>count</th>\n",
              "      <th>diff</th>\n",
              "      <th>risk</th>\n",
              "    </tr>\n",
              "    <tr>\n",
              "      <th>savings</th>\n",
              "      <th></th>\n",
              "      <th></th>\n",
              "      <th></th>\n",
              "      <th></th>\n",
              "    </tr>\n",
              "  </thead>\n",
              "  <tbody>\n",
              "    <tr>\n",
              "      <th>a61</th>\n",
              "      <td>0.359867</td>\n",
              "      <td>603</td>\n",
              "      <td>-0.340133</td>\n",
              "      <td>0.514096</td>\n",
              "    </tr>\n",
              "    <tr>\n",
              "      <th>a62</th>\n",
              "      <td>0.330097</td>\n",
              "      <td>103</td>\n",
              "      <td>-0.369903</td>\n",
              "      <td>0.471567</td>\n",
              "    </tr>\n",
              "    <tr>\n",
              "      <th>a63</th>\n",
              "      <td>0.174603</td>\n",
              "      <td>63</td>\n",
              "      <td>-0.525397</td>\n",
              "      <td>0.249433</td>\n",
              "    </tr>\n",
              "    <tr>\n",
              "      <th>a64</th>\n",
              "      <td>0.125000</td>\n",
              "      <td>48</td>\n",
              "      <td>-0.575000</td>\n",
              "      <td>0.178571</td>\n",
              "    </tr>\n",
              "    <tr>\n",
              "      <th>a65</th>\n",
              "      <td>0.174863</td>\n",
              "      <td>183</td>\n",
              "      <td>-0.525137</td>\n",
              "      <td>0.249805</td>\n",
              "    </tr>\n",
              "  </tbody>\n",
              "</table>\n",
              "</div>"
            ],
            "text/plain": [
              "             mean  count      diff      risk\n",
              "savings                                     \n",
              "a61      0.359867    603 -0.340133  0.514096\n",
              "a62      0.330097    103 -0.369903  0.471567\n",
              "a63      0.174603     63 -0.525397  0.249433\n",
              "a64      0.125000     48 -0.575000  0.178571\n",
              "a65      0.174863    183 -0.525137  0.249805"
            ]
          },
          "metadata": {},
          "output_type": "display_data"
        },
        {
          "name": "stdout",
          "output_type": "stream",
          "text": [
            "\n",
            "\n",
            "employment\n"
          ]
        },
        {
          "data": {
            "text/html": [
              "<div>\n",
              "<style scoped>\n",
              "    .dataframe tbody tr th:only-of-type {\n",
              "        vertical-align: middle;\n",
              "    }\n",
              "\n",
              "    .dataframe tbody tr th {\n",
              "        vertical-align: top;\n",
              "    }\n",
              "\n",
              "    .dataframe thead th {\n",
              "        text-align: right;\n",
              "    }\n",
              "</style>\n",
              "<table border=\"1\" class=\"dataframe\">\n",
              "  <thead>\n",
              "    <tr style=\"text-align: right;\">\n",
              "      <th></th>\n",
              "      <th>mean</th>\n",
              "      <th>count</th>\n",
              "      <th>diff</th>\n",
              "      <th>risk</th>\n",
              "    </tr>\n",
              "    <tr>\n",
              "      <th>employment</th>\n",
              "      <th></th>\n",
              "      <th></th>\n",
              "      <th></th>\n",
              "      <th></th>\n",
              "    </tr>\n",
              "  </thead>\n",
              "  <tbody>\n",
              "    <tr>\n",
              "      <th>a71</th>\n",
              "      <td>0.370968</td>\n",
              "      <td>62</td>\n",
              "      <td>-0.329032</td>\n",
              "      <td>0.529954</td>\n",
              "    </tr>\n",
              "    <tr>\n",
              "      <th>a72</th>\n",
              "      <td>0.406977</td>\n",
              "      <td>172</td>\n",
              "      <td>-0.293023</td>\n",
              "      <td>0.581395</td>\n",
              "    </tr>\n",
              "    <tr>\n",
              "      <th>a73</th>\n",
              "      <td>0.306785</td>\n",
              "      <td>339</td>\n",
              "      <td>-0.393215</td>\n",
              "      <td>0.438264</td>\n",
              "    </tr>\n",
              "    <tr>\n",
              "      <th>a74</th>\n",
              "      <td>0.224138</td>\n",
              "      <td>174</td>\n",
              "      <td>-0.475862</td>\n",
              "      <td>0.320197</td>\n",
              "    </tr>\n",
              "    <tr>\n",
              "      <th>a75</th>\n",
              "      <td>0.252964</td>\n",
              "      <td>253</td>\n",
              "      <td>-0.447036</td>\n",
              "      <td>0.361378</td>\n",
              "    </tr>\n",
              "  </tbody>\n",
              "</table>\n",
              "</div>"
            ],
            "text/plain": [
              "                mean  count      diff      risk\n",
              "employment                                     \n",
              "a71         0.370968     62 -0.329032  0.529954\n",
              "a72         0.406977    172 -0.293023  0.581395\n",
              "a73         0.306785    339 -0.393215  0.438264\n",
              "a74         0.224138    174 -0.475862  0.320197\n",
              "a75         0.252964    253 -0.447036  0.361378"
            ]
          },
          "metadata": {},
          "output_type": "display_data"
        },
        {
          "name": "stdout",
          "output_type": "stream",
          "text": [
            "\n",
            "\n",
            "personal_status\n"
          ]
        },
        {
          "data": {
            "text/html": [
              "<div>\n",
              "<style scoped>\n",
              "    .dataframe tbody tr th:only-of-type {\n",
              "        vertical-align: middle;\n",
              "    }\n",
              "\n",
              "    .dataframe tbody tr th {\n",
              "        vertical-align: top;\n",
              "    }\n",
              "\n",
              "    .dataframe thead th {\n",
              "        text-align: right;\n",
              "    }\n",
              "</style>\n",
              "<table border=\"1\" class=\"dataframe\">\n",
              "  <thead>\n",
              "    <tr style=\"text-align: right;\">\n",
              "      <th></th>\n",
              "      <th>mean</th>\n",
              "      <th>count</th>\n",
              "      <th>diff</th>\n",
              "      <th>risk</th>\n",
              "    </tr>\n",
              "    <tr>\n",
              "      <th>personal_status</th>\n",
              "      <th></th>\n",
              "      <th></th>\n",
              "      <th></th>\n",
              "      <th></th>\n",
              "    </tr>\n",
              "  </thead>\n",
              "  <tbody>\n",
              "    <tr>\n",
              "      <th>a91</th>\n",
              "      <td>0.400000</td>\n",
              "      <td>50</td>\n",
              "      <td>-0.300000</td>\n",
              "      <td>0.571429</td>\n",
              "    </tr>\n",
              "    <tr>\n",
              "      <th>a92</th>\n",
              "      <td>0.351613</td>\n",
              "      <td>310</td>\n",
              "      <td>-0.348387</td>\n",
              "      <td>0.502304</td>\n",
              "    </tr>\n",
              "    <tr>\n",
              "      <th>a93</th>\n",
              "      <td>0.266423</td>\n",
              "      <td>548</td>\n",
              "      <td>-0.433577</td>\n",
              "      <td>0.380605</td>\n",
              "    </tr>\n",
              "    <tr>\n",
              "      <th>a94</th>\n",
              "      <td>0.271739</td>\n",
              "      <td>92</td>\n",
              "      <td>-0.428261</td>\n",
              "      <td>0.388199</td>\n",
              "    </tr>\n",
              "  </tbody>\n",
              "</table>\n",
              "</div>"
            ],
            "text/plain": [
              "                     mean  count      diff      risk\n",
              "personal_status                                     \n",
              "a91              0.400000     50 -0.300000  0.571429\n",
              "a92              0.351613    310 -0.348387  0.502304\n",
              "a93              0.266423    548 -0.433577  0.380605\n",
              "a94              0.271739     92 -0.428261  0.388199"
            ]
          },
          "metadata": {},
          "output_type": "display_data"
        },
        {
          "name": "stdout",
          "output_type": "stream",
          "text": [
            "\n",
            "\n",
            "property\n"
          ]
        },
        {
          "data": {
            "text/html": [
              "<div>\n",
              "<style scoped>\n",
              "    .dataframe tbody tr th:only-of-type {\n",
              "        vertical-align: middle;\n",
              "    }\n",
              "\n",
              "    .dataframe tbody tr th {\n",
              "        vertical-align: top;\n",
              "    }\n",
              "\n",
              "    .dataframe thead th {\n",
              "        text-align: right;\n",
              "    }\n",
              "</style>\n",
              "<table border=\"1\" class=\"dataframe\">\n",
              "  <thead>\n",
              "    <tr style=\"text-align: right;\">\n",
              "      <th></th>\n",
              "      <th>mean</th>\n",
              "      <th>count</th>\n",
              "      <th>diff</th>\n",
              "      <th>risk</th>\n",
              "    </tr>\n",
              "    <tr>\n",
              "      <th>property</th>\n",
              "      <th></th>\n",
              "      <th></th>\n",
              "      <th></th>\n",
              "      <th></th>\n",
              "    </tr>\n",
              "  </thead>\n",
              "  <tbody>\n",
              "    <tr>\n",
              "      <th>a121</th>\n",
              "      <td>0.212766</td>\n",
              "      <td>282</td>\n",
              "      <td>-0.487234</td>\n",
              "      <td>0.303951</td>\n",
              "    </tr>\n",
              "    <tr>\n",
              "      <th>a122</th>\n",
              "      <td>0.306034</td>\n",
              "      <td>232</td>\n",
              "      <td>-0.393966</td>\n",
              "      <td>0.437192</td>\n",
              "    </tr>\n",
              "    <tr>\n",
              "      <th>a123</th>\n",
              "      <td>0.307229</td>\n",
              "      <td>332</td>\n",
              "      <td>-0.392771</td>\n",
              "      <td>0.438898</td>\n",
              "    </tr>\n",
              "    <tr>\n",
              "      <th>a124</th>\n",
              "      <td>0.435065</td>\n",
              "      <td>154</td>\n",
              "      <td>-0.264935</td>\n",
              "      <td>0.621521</td>\n",
              "    </tr>\n",
              "  </tbody>\n",
              "</table>\n",
              "</div>"
            ],
            "text/plain": [
              "              mean  count      diff      risk\n",
              "property                                     \n",
              "a121      0.212766    282 -0.487234  0.303951\n",
              "a122      0.306034    232 -0.393966  0.437192\n",
              "a123      0.307229    332 -0.392771  0.438898\n",
              "a124      0.435065    154 -0.264935  0.621521"
            ]
          },
          "metadata": {},
          "output_type": "display_data"
        },
        {
          "name": "stdout",
          "output_type": "stream",
          "text": [
            "\n",
            "\n",
            "other_installments\n"
          ]
        },
        {
          "data": {
            "text/html": [
              "<div>\n",
              "<style scoped>\n",
              "    .dataframe tbody tr th:only-of-type {\n",
              "        vertical-align: middle;\n",
              "    }\n",
              "\n",
              "    .dataframe tbody tr th {\n",
              "        vertical-align: top;\n",
              "    }\n",
              "\n",
              "    .dataframe thead th {\n",
              "        text-align: right;\n",
              "    }\n",
              "</style>\n",
              "<table border=\"1\" class=\"dataframe\">\n",
              "  <thead>\n",
              "    <tr style=\"text-align: right;\">\n",
              "      <th></th>\n",
              "      <th>mean</th>\n",
              "      <th>count</th>\n",
              "      <th>diff</th>\n",
              "      <th>risk</th>\n",
              "    </tr>\n",
              "    <tr>\n",
              "      <th>other_installments</th>\n",
              "      <th></th>\n",
              "      <th></th>\n",
              "      <th></th>\n",
              "      <th></th>\n",
              "    </tr>\n",
              "  </thead>\n",
              "  <tbody>\n",
              "    <tr>\n",
              "      <th>a141</th>\n",
              "      <td>0.410072</td>\n",
              "      <td>139</td>\n",
              "      <td>-0.289928</td>\n",
              "      <td>0.585817</td>\n",
              "    </tr>\n",
              "    <tr>\n",
              "      <th>a142</th>\n",
              "      <td>0.404255</td>\n",
              "      <td>47</td>\n",
              "      <td>-0.295745</td>\n",
              "      <td>0.577508</td>\n",
              "    </tr>\n",
              "    <tr>\n",
              "      <th>a143</th>\n",
              "      <td>0.275184</td>\n",
              "      <td>814</td>\n",
              "      <td>-0.424816</td>\n",
              "      <td>0.393120</td>\n",
              "    </tr>\n",
              "  </tbody>\n",
              "</table>\n",
              "</div>"
            ],
            "text/plain": [
              "                        mean  count      diff      risk\n",
              "other_installments                                     \n",
              "a141                0.410072    139 -0.289928  0.585817\n",
              "a142                0.404255     47 -0.295745  0.577508\n",
              "a143                0.275184    814 -0.424816  0.393120"
            ]
          },
          "metadata": {},
          "output_type": "display_data"
        },
        {
          "name": "stdout",
          "output_type": "stream",
          "text": [
            "\n",
            "\n",
            "housing\n"
          ]
        },
        {
          "data": {
            "text/html": [
              "<div>\n",
              "<style scoped>\n",
              "    .dataframe tbody tr th:only-of-type {\n",
              "        vertical-align: middle;\n",
              "    }\n",
              "\n",
              "    .dataframe tbody tr th {\n",
              "        vertical-align: top;\n",
              "    }\n",
              "\n",
              "    .dataframe thead th {\n",
              "        text-align: right;\n",
              "    }\n",
              "</style>\n",
              "<table border=\"1\" class=\"dataframe\">\n",
              "  <thead>\n",
              "    <tr style=\"text-align: right;\">\n",
              "      <th></th>\n",
              "      <th>mean</th>\n",
              "      <th>count</th>\n",
              "      <th>diff</th>\n",
              "      <th>risk</th>\n",
              "    </tr>\n",
              "    <tr>\n",
              "      <th>housing</th>\n",
              "      <th></th>\n",
              "      <th></th>\n",
              "      <th></th>\n",
              "      <th></th>\n",
              "    </tr>\n",
              "  </thead>\n",
              "  <tbody>\n",
              "    <tr>\n",
              "      <th>a151</th>\n",
              "      <td>0.391061</td>\n",
              "      <td>179</td>\n",
              "      <td>-0.308939</td>\n",
              "      <td>0.558659</td>\n",
              "    </tr>\n",
              "    <tr>\n",
              "      <th>a152</th>\n",
              "      <td>0.260870</td>\n",
              "      <td>713</td>\n",
              "      <td>-0.439130</td>\n",
              "      <td>0.372671</td>\n",
              "    </tr>\n",
              "    <tr>\n",
              "      <th>a153</th>\n",
              "      <td>0.407407</td>\n",
              "      <td>108</td>\n",
              "      <td>-0.292593</td>\n",
              "      <td>0.582011</td>\n",
              "    </tr>\n",
              "  </tbody>\n",
              "</table>\n",
              "</div>"
            ],
            "text/plain": [
              "             mean  count      diff      risk\n",
              "housing                                     \n",
              "a151     0.391061    179 -0.308939  0.558659\n",
              "a152     0.260870    713 -0.439130  0.372671\n",
              "a153     0.407407    108 -0.292593  0.582011"
            ]
          },
          "metadata": {},
          "output_type": "display_data"
        },
        {
          "name": "stdout",
          "output_type": "stream",
          "text": [
            "\n",
            "\n",
            "job\n"
          ]
        },
        {
          "data": {
            "text/html": [
              "<div>\n",
              "<style scoped>\n",
              "    .dataframe tbody tr th:only-of-type {\n",
              "        vertical-align: middle;\n",
              "    }\n",
              "\n",
              "    .dataframe tbody tr th {\n",
              "        vertical-align: top;\n",
              "    }\n",
              "\n",
              "    .dataframe thead th {\n",
              "        text-align: right;\n",
              "    }\n",
              "</style>\n",
              "<table border=\"1\" class=\"dataframe\">\n",
              "  <thead>\n",
              "    <tr style=\"text-align: right;\">\n",
              "      <th></th>\n",
              "      <th>mean</th>\n",
              "      <th>count</th>\n",
              "      <th>diff</th>\n",
              "      <th>risk</th>\n",
              "    </tr>\n",
              "    <tr>\n",
              "      <th>job</th>\n",
              "      <th></th>\n",
              "      <th></th>\n",
              "      <th></th>\n",
              "      <th></th>\n",
              "    </tr>\n",
              "  </thead>\n",
              "  <tbody>\n",
              "    <tr>\n",
              "      <th>a171</th>\n",
              "      <td>0.318182</td>\n",
              "      <td>22</td>\n",
              "      <td>-0.381818</td>\n",
              "      <td>0.454545</td>\n",
              "    </tr>\n",
              "    <tr>\n",
              "      <th>a172</th>\n",
              "      <td>0.280000</td>\n",
              "      <td>200</td>\n",
              "      <td>-0.420000</td>\n",
              "      <td>0.400000</td>\n",
              "    </tr>\n",
              "    <tr>\n",
              "      <th>a173</th>\n",
              "      <td>0.295238</td>\n",
              "      <td>630</td>\n",
              "      <td>-0.404762</td>\n",
              "      <td>0.421769</td>\n",
              "    </tr>\n",
              "    <tr>\n",
              "      <th>a174</th>\n",
              "      <td>0.344595</td>\n",
              "      <td>148</td>\n",
              "      <td>-0.355405</td>\n",
              "      <td>0.492278</td>\n",
              "    </tr>\n",
              "  </tbody>\n",
              "</table>\n",
              "</div>"
            ],
            "text/plain": [
              "          mean  count      diff      risk\n",
              "job                                      \n",
              "a171  0.318182     22 -0.381818  0.454545\n",
              "a172  0.280000    200 -0.420000  0.400000\n",
              "a173  0.295238    630 -0.404762  0.421769\n",
              "a174  0.344595    148 -0.355405  0.492278"
            ]
          },
          "metadata": {},
          "output_type": "display_data"
        },
        {
          "name": "stdout",
          "output_type": "stream",
          "text": [
            "\n",
            "\n",
            "foreign_worker\n"
          ]
        },
        {
          "data": {
            "text/html": [
              "<div>\n",
              "<style scoped>\n",
              "    .dataframe tbody tr th:only-of-type {\n",
              "        vertical-align: middle;\n",
              "    }\n",
              "\n",
              "    .dataframe tbody tr th {\n",
              "        vertical-align: top;\n",
              "    }\n",
              "\n",
              "    .dataframe thead th {\n",
              "        text-align: right;\n",
              "    }\n",
              "</style>\n",
              "<table border=\"1\" class=\"dataframe\">\n",
              "  <thead>\n",
              "    <tr style=\"text-align: right;\">\n",
              "      <th></th>\n",
              "      <th>mean</th>\n",
              "      <th>count</th>\n",
              "      <th>diff</th>\n",
              "      <th>risk</th>\n",
              "    </tr>\n",
              "    <tr>\n",
              "      <th>foreign_worker</th>\n",
              "      <th></th>\n",
              "      <th></th>\n",
              "      <th></th>\n",
              "      <th></th>\n",
              "    </tr>\n",
              "  </thead>\n",
              "  <tbody>\n",
              "    <tr>\n",
              "      <th>a201</th>\n",
              "      <td>0.307373</td>\n",
              "      <td>963</td>\n",
              "      <td>-0.392627</td>\n",
              "      <td>0.439104</td>\n",
              "    </tr>\n",
              "    <tr>\n",
              "      <th>a202</th>\n",
              "      <td>0.108108</td>\n",
              "      <td>37</td>\n",
              "      <td>-0.591892</td>\n",
              "      <td>0.154440</td>\n",
              "    </tr>\n",
              "  </tbody>\n",
              "</table>\n",
              "</div>"
            ],
            "text/plain": [
              "                    mean  count      diff      risk\n",
              "foreign_worker                                     \n",
              "a201            0.307373    963 -0.392627  0.439104\n",
              "a202            0.108108     37 -0.591892  0.154440"
            ]
          },
          "metadata": {},
          "output_type": "display_data"
        },
        {
          "name": "stdout",
          "output_type": "stream",
          "text": [
            "\n",
            "\n"
          ]
        }
      ],
      "source": [
        "for c in categorical:\n",
        "    print(c)\n",
        "    df_group = df.groupby(c).target.agg(['mean', 'count'])\n",
        "    df_group['diff'] = df_group['mean'] - global_good_credit\n",
        "    df_group['risk'] = df_group['mean'] / global_good_credit\n",
        "    display(df_group)\n",
        "    print()\n",
        "    print()"
      ]
    },
    {
      "cell_type": "code",
      "execution_count": 82,
      "metadata": {
        "id": "PjTW6j_oJ7hB"
      },
      "outputs": [],
      "source": [
        "from sklearn.metrics import mutual_info_score"
      ]
    },
    {
      "cell_type": "code",
      "execution_count": 85,
      "metadata": {
        "id": "jVdRJD9mKBJQ"
      },
      "outputs": [],
      "source": [
        "def mutual_info_target_score(series):\n",
        "    return mutual_info_score(series, df.target)"
      ]
    },
    {
      "cell_type": "code",
      "execution_count": 86,
      "metadata": {
        "colab": {
          "base_uri": "https://localhost:8080/",
          "height": 335
        },
        "id": "jDk-idAPKFPo",
        "outputId": "56e949c8-0054-4dfc-f7b7-275d2f26165b"
      },
      "outputs": [
        {
          "data": {
            "text/plain": [
              "status                0.065668\n",
              "credit_history        0.030234\n",
              "savings               0.019488\n",
              "purpose               0.017255\n",
              "property              0.011773\n",
              "employment            0.009082\n",
              "housing               0.008840\n",
              "other_installments    0.006152\n",
              "personal_status       0.004721\n",
              "foreign_worker        0.004036\n",
              "job                   0.000927\n",
              "dtype: float64"
            ]
          },
          "execution_count": 86,
          "metadata": {},
          "output_type": "execute_result"
        }
      ],
      "source": [
        "mi = df[categorical].apply(mutual_info_target_score)\n",
        "mi.sort_values(ascending=False)"
      ]
    },
    {
      "cell_type": "code",
      "execution_count": 94,
      "metadata": {
        "colab": {
          "base_uri": "https://localhost:8080/",
          "height": 272
        },
        "id": "0W7P4dIvKXPD",
        "outputId": "710117a3-4732-4cb8-8e77-4088752c84c3"
      },
      "outputs": [
        {
          "data": {
            "text/plain": [
              "duration              0.214927\n",
              "credit_amount         0.154739\n",
              "installment_rate      0.072404\n",
              "residence_duration    0.002967\n",
              "age                   0.091127\n",
              "existing_credits      0.045732\n",
              "number_dependents     0.003015\n",
              "dtype: float64"
            ]
          },
          "execution_count": 94,
          "metadata": {},
          "output_type": "execute_result"
        }
      ],
      "source": [
        "df[numerical].corrwith(df.target).abs()"
      ]
    },
    {
      "cell_type": "code",
      "execution_count": 173,
      "metadata": {
        "id": "aqIFcAPn8pGQ"
      },
      "outputs": [],
      "source": [
        "from sklearn.model_selection import train_test_split\n",
        "\n",
        "df_train_full, df_test = train_test_split(df, test_size=0.20, random_state=1)\n",
        "df_train, df_val = train_test_split(df_train_full, test_size=0.20, random_state=1)"
      ]
    },
    {
      "cell_type": "code",
      "execution_count": 89,
      "metadata": {
        "colab": {
          "base_uri": "https://localhost:8080/"
        },
        "id": "cJhTXO0W8zzN",
        "outputId": "b99331a8-b356-4049-a9fb-ccca479f70df"
      },
      "outputs": [
        {
          "data": {
            "text/plain": [
              "((640, 21), (160, 21), (200, 21))"
            ]
          },
          "execution_count": 89,
          "metadata": {},
          "output_type": "execute_result"
        }
      ],
      "source": [
        "df_train.shape, df_val.shape, df_test.shape"
      ]
    },
    {
      "cell_type": "code",
      "execution_count": 174,
      "metadata": {
        "id": "5q2IM7tU8-Yu"
      },
      "outputs": [],
      "source": [
        "df_train = df_train.reset_index(drop=True)\n",
        "df_val = df_val.reset_index(drop=True)\n",
        "df_test = df_test.reset_index(drop=True)"
      ]
    },
    {
      "cell_type": "code",
      "execution_count": 175,
      "metadata": {
        "id": "OkGSODNd9ETm"
      },
      "outputs": [],
      "source": [
        "y_train = df_train.target.astype('int').values\n",
        "y_val = df_val.target.astype('int').values\n",
        "y_test = df_test.target.astype('int').values"
      ]
    },
    {
      "cell_type": "code",
      "execution_count": 176,
      "metadata": {
        "id": "v8Vu43Z09X_P"
      },
      "outputs": [],
      "source": [
        "del df_train['target']\n",
        "del df_val['target']\n",
        "del df_test['target']"
      ]
    },
    {
      "cell_type": "code",
      "execution_count": 148,
      "metadata": {
        "id": "5RnhQMdh9gEz"
      },
      "outputs": [],
      "source": [
        "from sklearn.feature_extraction import DictVectorizer"
      ]
    },
    {
      "cell_type": "code",
      "execution_count": 177,
      "metadata": {
        "id": "M0OWcu4u9mo_"
      },
      "outputs": [],
      "source": [
        "dv = DictVectorizer(sparse=False)\n",
        "train_dicts = df_train.fillna(0).to_dict(orient='records')\n",
        "X_train = dv.fit_transform(train_dicts)"
      ]
    },
    {
      "cell_type": "code",
      "execution_count": 178,
      "metadata": {
        "id": "8dnuNOJI9oL_"
      },
      "outputs": [],
      "source": [
        "val_dicts = df_val.fillna(0).to_dict(orient='records')\n",
        "X_val = dv.transform(val_dicts)"
      ]
    },
    {
      "cell_type": "code",
      "execution_count": 179,
      "metadata": {
        "id": "t-WuX68T9u_z"
      },
      "outputs": [],
      "source": [
        "test_dicts = df_test.fillna(0).to_dict(orient='records')\n",
        "X_test = dv.transform(test_dicts)"
      ]
    },
    {
      "cell_type": "code",
      "execution_count": 102,
      "metadata": {
        "id": "x-E9NtFjW9ZK"
      },
      "outputs": [],
      "source": [
        "import pickle"
      ]
    },
    {
      "cell_type": "code",
      "execution_count": 180,
      "metadata": {
        "id": "lG4VEB3DW531"
      },
      "outputs": [],
      "source": [
        "with open('dv.pkl', 'wb') as f_dv:\n",
        "    pickle.dump(dv, f_dv)"
      ]
    },
    {
      "cell_type": "markdown",
      "metadata": {
        "id": "FR0xPpaX8M49"
      },
      "source": [
        "## Model Selection Process."
      ]
    },
    {
      "cell_type": "code",
      "execution_count": 182,
      "metadata": {
        "id": "v1vullEF8OTG"
      },
      "outputs": [],
      "source": [
        "from sklearn.tree import DecisionTreeClassifier\n",
        "from sklearn.ensemble import RandomForestClassifier\n",
        "from xgboost import XGBClassifier\n",
        "from sklearn.model_selection import cross_val_score\n",
        "from sklearn.metrics import accuracy_score, f1_score, roc_auc_score\n",
        "import numpy as np"
      ]
    },
    {
      "cell_type": "code",
      "execution_count": 183,
      "metadata": {
        "id": "fpNkq7nm8VWB"
      },
      "outputs": [],
      "source": [
        "models = {\n",
        "    'Decision Tree': DecisionTreeClassifier(),\n",
        "    'Random Forest': RandomForestClassifier(),\n",
        "    'XGBoost': XGBClassifier(eval_metric='logloss', use_label_encoder=False)\n",
        "}"
      ]
    },
    {
      "cell_type": "code",
      "execution_count": 184,
      "metadata": {
        "colab": {
          "base_uri": "https://localhost:8080/"
        },
        "id": "aYBxXp2u8YDR",
        "outputId": "665bf09f-decd-4933-f940-b6892eebd730"
      },
      "outputs": [
        {
          "name": "stderr",
          "output_type": "stream",
          "text": [
            "/home/user/Downloads/credit_score_api/.conda/lib/python3.10/site-packages/xgboost/core.py:158: UserWarning: [02:13:56] WARNING: /workspace/src/learner.cc:740: \n",
            "Parameters: { \"use_label_encoder\" } are not used.\n",
            "\n",
            "  warnings.warn(smsg, UserWarning)\n"
          ]
        }
      ],
      "source": [
        "results = {}\n",
        "scoring_metrics = {\n",
        "    'accuracy': accuracy_score,\n",
        "    'f1': f1_score,\n",
        "    'roc_auc': roc_auc_score\n",
        "}\n",
        "\n",
        "for name, model in models.items():\n",
        "    model.fit(X_train, y_train)\n",
        "\n",
        "    y_pred = model.predict(X_val)\n",
        "    y_proba = model.predict_proba(X_val)[:, 1] if hasattr(model, \"predict_proba\") else None\n",
        "\n",
        "    scores = {}\n",
        "    scores['accuracy'] = accuracy_score(y_val, y_pred)\n",
        "    scores['f1'] = f1_score(y_val, y_pred)\n",
        "    scores['roc_auc'] = roc_auc_score(y_val, y_proba) if y_proba is not None else None\n",
        "    results[name] = scores\n",
        "\n",
        "results_df = pd.DataFrame(results).T"
      ]
    },
    {
      "cell_type": "code",
      "execution_count": 185,
      "metadata": {
        "colab": {
          "base_uri": "https://localhost:8080/",
          "height": 143
        },
        "id": "r98_gbK8_KjF",
        "outputId": "f121ce9f-99cf-4baa-f285-2f4e21e3d1be"
      },
      "outputs": [
        {
          "data": {
            "text/html": [
              "<div>\n",
              "<style scoped>\n",
              "    .dataframe tbody tr th:only-of-type {\n",
              "        vertical-align: middle;\n",
              "    }\n",
              "\n",
              "    .dataframe tbody tr th {\n",
              "        vertical-align: top;\n",
              "    }\n",
              "\n",
              "    .dataframe thead th {\n",
              "        text-align: right;\n",
              "    }\n",
              "</style>\n",
              "<table border=\"1\" class=\"dataframe\">\n",
              "  <thead>\n",
              "    <tr style=\"text-align: right;\">\n",
              "      <th></th>\n",
              "      <th>accuracy</th>\n",
              "      <th>f1</th>\n",
              "      <th>roc_auc</th>\n",
              "    </tr>\n",
              "  </thead>\n",
              "  <tbody>\n",
              "    <tr>\n",
              "      <th>Decision Tree</th>\n",
              "      <td>0.68750</td>\n",
              "      <td>0.479167</td>\n",
              "      <td>0.65000</td>\n",
              "    </tr>\n",
              "    <tr>\n",
              "      <th>Random Forest</th>\n",
              "      <td>0.84375</td>\n",
              "      <td>0.647887</td>\n",
              "      <td>0.83375</td>\n",
              "    </tr>\n",
              "    <tr>\n",
              "      <th>XGBoost</th>\n",
              "      <td>0.75625</td>\n",
              "      <td>0.480000</td>\n",
              "      <td>0.83250</td>\n",
              "    </tr>\n",
              "  </tbody>\n",
              "</table>\n",
              "</div>"
            ],
            "text/plain": [
              "               accuracy        f1  roc_auc\n",
              "Decision Tree   0.68750  0.479167  0.65000\n",
              "Random Forest   0.84375  0.647887  0.83375\n",
              "XGBoost         0.75625  0.480000  0.83250"
            ]
          },
          "execution_count": 185,
          "metadata": {},
          "output_type": "execute_result"
        }
      ],
      "source": [
        "results_df"
      ]
    },
    {
      "cell_type": "code",
      "execution_count": 186,
      "metadata": {
        "colab": {
          "base_uri": "https://localhost:8080/",
          "height": 581
        },
        "id": "dsypdL57_YGj",
        "outputId": "a5652325-5d71-4cc0-bd5e-8031add6a0cb"
      },
      "outputs": [
        {
          "data": {
            "image/png": "[encoded data removed]",
            "text/plain": [
              "<Figure size 1000x600 with 1 Axes>"
            ]
          },
          "metadata": {},
          "output_type": "display_data"
        }
      ],
      "source": [
        "colors = ['#4a90e2', '#5b9bd5', '#a6c8ff']\n",
        "\n",
        "fig, ax = plt.subplots(figsize=(10, 6))\n",
        "results_df.plot(kind='bar', ax=ax, color=colors, width=0.75, edgecolor='grey', linewidth=0.5)\n",
        "\n",
        "plt.title(\"Model Performance on Validation Set\", fontsize=16)\n",
        "plt.xlabel(\"Model\", fontsize=13)\n",
        "plt.ylabel(\"Score\", fontsize=13)\n",
        "plt.xticks(rotation=45, ha='right', fontsize=11)\n",
        "plt.yticks(fontsize=11)\n",
        "\n",
        "plt.legend(title=\"Metric\", fontsize=11, loc='center left', bbox_to_anchor=(1, 0.5))\n",
        "\n",
        "plt.grid(axis='y', linestyle='--', alpha=0.7)\n",
        "\n",
        "ax.set_ylim(0, 1.05)\n",
        "\n",
        "for container in ax.containers:\n",
        "    ax.bar_label(container, fmt='%.2f', label_type=\"edge\", padding=5, fontsize=9, clip_on=True)\n",
        "\n",
        "plt.tight_layout(pad=2)\n",
        "\n",
        "plt.show()"
      ]
    },
    {
      "cell_type": "code",
      "execution_count": 187,
      "metadata": {
        "colab": {
          "base_uri": "https://localhost:8080/",
          "height": 607
        },
        "id": "mkfXjweQBQss",
        "outputId": "eb5f7ffa-0e96-4d73-efad-fa105444f653"
      },
      "outputs": [
        {
          "data": {
            "image/png": "[encoded data removed]",
            "text/plain": [
              "<Figure size 1000x600 with 1 Axes>"
            ]
          },
          "metadata": {},
          "output_type": "display_data"
        }
      ],
      "source": [
        "xgb_model = XGBClassifier(eval_metric='logloss')\n",
        "xgb_model.fit(X_train, y_train)\n",
        "\n",
        "xgb_importances = pd.Series(xgb_model.feature_importances_, index=dv.feature_names_)\n",
        "xgb_importances = xgb_importances.sort_values(ascending=False)\n",
        "\n",
        "fig, ax = plt.subplots(figsize=(10, 6))\n",
        "xgb_importances.head(10).plot(kind='bar', ax=ax)\n",
        "plt.title(\"Top 10 Feature Importances in XGBoost\")\n",
        "plt.xlabel(\"Feature\")\n",
        "plt.ylabel(\"Importance Score\")\n",
        "plt.xticks(rotation=45, ha='right')\n",
        "\n",
        "plt.tight_layout()\n",
        "plt.show()"
      ]
    },
    {
      "cell_type": "markdown",
      "metadata": {
        "id": "CwerFOwBEnYW"
      },
      "source": [
        "## Parameter Tuning."
      ]
    },
    {
      "cell_type": "code",
      "execution_count": 188,
      "metadata": {
        "id": "ArAn8woIEo14"
      },
      "outputs": [],
      "source": [
        "from sklearn.model_selection import train_test_split\n",
        "\n",
        "X_train_tune, X_val, y_train_tune, y_val = train_test_split(X_train, y_train, test_size=0.2, random_state=42)"
      ]
    },
    {
      "cell_type": "code",
      "execution_count": null,
      "metadata": {
        "colab": {
          "base_uri": "https://localhost:8080/",
          "height": 225
        },
        "id": "cnMJTM8eEr0E",
        "outputId": "335014ef-75f3-4054-cdd8-2b51ffec1261"
      },
      "outputs": [],
      "source": [
        "from sklearn.model_selection import RandomizedSearchCV\n",
        "\n",
        "param_grid = {\n",
        "    'learning_rate': [0.01, 0.05, 0.1, 0.2],\n",
        "    'n_estimators': [100, 200, 500],\n",
        "    'max_depth': [3, 5, 7, 10],\n",
        "    'subsample': [0.6, 0.8, 1.0],\n",
        "    'colsample_bytree': [0.6, 0.8, 1.0],\n",
        "    'gamma': [0, 0.1, 0.2, 0.3]\n",
        "}\n",
        "\n",
        "xgb = XGBClassifier(eval_metric='logloss')\n",
        "\n",
        "random_search = RandomizedSearchCV(\n",
        "    estimator=xgb,\n",
        "    param_distributions=param_grid,\n",
        "    n_iter=20,\n",
        "    scoring='accuracy',\n",
        "    cv=3,\n",
        "    verbose=1,\n",
        "    random_state=42,\n",
        "    n_jobs=-1\n",
        ")\n",
        "\n",
        "random_search.fit(X_train_tune, y_train_tune)"
      ]
    },
    {
      "cell_type": "code",
      "execution_count": null,
      "metadata": {
        "colab": {
          "base_uri": "https://localhost:8080/"
        },
        "id": "PUjB_MWyFY7x",
        "outputId": "2bb490ba-921b-40eb-edf2-b8f0dd4941b5"
      },
      "outputs": [],
      "source": [
        "best_xgb = random_search.best_estimator_\n",
        "\n",
        "y_val_pred = best_xgb.predict(X_val)\n",
        "\n",
        "accuracy = accuracy_score(y_val, y_val_pred)\n",
        "f1 = f1_score(y_val, y_val_pred)\n",
        "roc_auc = roc_auc_score(y_val, best_xgb.predict_proba(X_val)[:, 1])\n",
        "\n",
        "print(\"Validation Set Performance.\")\n",
        "print(f\"Accuracy. {accuracy:.4f}.\")\n",
        "print(f\"F1 Score. {f1:.4f}.\")\n",
        "print(f\"ROC AUC. {roc_auc:.4f}.\")"
      ]
    },
    {
      "cell_type": "code",
      "execution_count": null,
      "metadata": {
        "colab": {
          "base_uri": "https://localhost:8080/",
          "height": 254
        },
        "id": "14bBUj_-F0nv",
        "outputId": "55aec41d-dd06-4aa3-d0ce-01ac11cb2b49"
      },
      "outputs": [],
      "source": [
        "final_xgb = XGBClassifier(**random_search.best_params_, eval_metric='logloss')\n",
        "final_xgb.fit(X_train, y_train)"
      ]
    },
    {
      "cell_type": "code",
      "execution_count": 196,
      "metadata": {},
      "outputs": [
        {
          "data": {
            "image/png": "[encoded data removed]",
            "text/plain": [
              "<Figure size 1000x600 with 1 Axes>"
            ]
          },
          "metadata": {},
          "output_type": "display_data"
        }
      ],
      "source": [
        "xgb_model = XGBClassifier(eval_metric='logloss')\n",
        "xgb_model.fit(X_train, y_train)\n",
        "\n",
        "xgb_importances = pd.Series(xgb_model.feature_importances_, index=dv.feature_names_)\n",
        "xgb_importances = xgb_importances.sort_values(ascending=False)\n",
        "\n",
        "fig, ax = plt.subplots(figsize=(10, 6))\n",
        "xgb_importances.head(10).plot(kind='bar', ax=ax)\n",
        "plt.title(\"Top 10 Feature Importances in XGBoost\")\n",
        "plt.xlabel(\"Feature\")\n",
        "plt.ylabel(\"Importance Score\")\n",
        "plt.xticks(rotation=45, ha='right')\n",
        "\n",
        "plt.tight_layout()\n",
        "plt.show()"
      ]
    },
    {
      "cell_type": "code",
      "execution_count": null,
      "metadata": {
        "colab": {
          "base_uri": "https://localhost:8080/"
        },
        "id": "EqmjKujRF6ED",
        "outputId": "155f70cf-9036-4d13-b993-89340a6e7e14"
      },
      "outputs": [],
      "source": [
        "y_test_pred = final_xgb.predict(X_test)\n",
        "\n",
        "test_accuracy = accuracy_score(y_test, y_test_pred)\n",
        "test_f1 = f1_score(y_test, y_test_pred)\n",
        "test_roc_auc = roc_auc_score(y_test, final_xgb.predict_proba(X_test)[:, 1])\n",
        "\n",
        "print(\"Test Set Performance.\")\n",
        "print(f\"Accuracy. {test_accuracy:.4f}.\")\n",
        "print(f\"F1 Score. {test_f1:.4f}.\")\n",
        "print(f\"ROC AUC. {test_roc_auc:.4f}.\")"
      ]
    },
    {
      "cell_type": "code",
      "execution_count": 198,
      "metadata": {
        "colab": {
          "base_uri": "https://localhost:8080/"
        },
        "id": "3qTsKWZDGC8t",
        "outputId": "d2bf6c0e-babe-4ae2-ead9-b9d6a417d697"
      },
      "outputs": [
        {
          "data": {
            "text/plain": [
              "['model.pkl']"
            ]
          },
          "execution_count": 198,
          "metadata": {},
          "output_type": "execute_result"
        }
      ],
      "source": [
        "import joblib\n",
        "\n",
        "joblib.dump(xgb_model, 'model.pkl')"
      ]
    },
    {
      "cell_type": "code",
      "execution_count": null,
      "metadata": {
        "colab": {
          "base_uri": "https://localhost:8080/"
        },
        "id": "htB35fmfGRmj",
        "outputId": "4a4db983-2463-4c07-8252-ee4490968330"
      },
      "outputs": [],
      "source": [
        "print(f\"Best Hyperparameters. {random_search.best_params_}.\")\n",
        "print(f\"Final Test Accuracy. {test_accuracy:.4f}.\")\n",
        "print(f\"Final Test F1 Score. {test_f1:.4f}.\")\n",
        "print(f\"Final Test ROC AUC. {test_roc_auc:.4f}.\")"
      ]
    },
    {
      "cell_type": "markdown",
      "metadata": {
        "id": "Axlc229KXSer"
      },
      "source": [
        "## Load the model."
      ]
    },
    {
      "cell_type": "code",
      "execution_count": 10,
      "metadata": {
        "id": "SnoNpsCLXYNQ"
      },
      "outputs": [],
      "source": [
        "import pickle"
      ]
    },
    {
      "cell_type": "code",
      "execution_count": 199,
      "metadata": {
        "id": "e8Kl6ccsYZ_m"
      },
      "outputs": [],
      "source": [
        "dv_input_file = 'dv.pkl'\n",
        "model_input_file = 'model.pkl'"
      ]
    },
    {
      "cell_type": "code",
      "execution_count": 200,
      "metadata": {
        "id": "X29UofS-YhOR"
      },
      "outputs": [],
      "source": [
        "with open(dv_input_file, 'rb') as f_in:\n",
        "  dv = pickle.load(f_in)"
      ]
    },
    {
      "cell_type": "code",
      "execution_count": 201,
      "metadata": {
        "id": "aKLZSld-Ynmy"
      },
      "outputs": [],
      "source": [
        "with open(model_input_file, 'rb') as f_in:\n",
        "  model = pickle.load(f_in)"
      ]
    },
    {
      "cell_type": "code",
      "execution_count": 202,
      "metadata": {
        "colab": {
          "base_uri": "https://localhost:8080/"
        },
        "id": "aG2rpC0GYrRK",
        "outputId": "224591e3-551d-48dc-8f49-f47c41581008"
      },
      "outputs": [
        {
          "data": {
            "text/plain": [
              "(DictVectorizer(sparse=False),\n",
              " XGBClassifier(base_score=None, booster=None, callbacks=None,\n",
              "               colsample_bylevel=None, colsample_bynode=None,\n",
              "               colsample_bytree=None, device=None, early_stopping_rounds=None,\n",
              "               enable_categorical=False, eval_metric='logloss',\n",
              "               feature_types=None, gamma=None, grow_policy=None,\n",
              "               importance_type=None, interaction_constraints=None,\n",
              "               learning_rate=None, max_bin=None, max_cat_threshold=None,\n",
              "               max_cat_to_onehot=None, max_delta_step=None, max_depth=None,\n",
              "               max_leaves=None, min_child_weight=None, missing=nan,\n",
              "               monotone_constraints=None, multi_strategy=None, n_estimators=None,\n",
              "               n_jobs=None, num_parallel_tree=None, random_state=None, ...))"
            ]
          },
          "execution_count": 202,
          "metadata": {},
          "output_type": "execute_result"
        }
      ],
      "source": [
        "dv, model"
      ]
    },
    {
      "cell_type": "code",
      "execution_count": 206,
      "metadata": {},
      "outputs": [],
      "source": [
        "client = df.iloc[0].to_dict()"
      ]
    }
  ],
  "metadata": {
    "colab": {
      "provenance": []
    },
    "kernelspec": {
      "display_name": "Python 3",
      "language": "python",
      "name": "python3"
    },
    "language_info": {
      "codemirror_mode": {
        "name": "ipython",
        "version": 3
      },
      "file_extension": ".py",
      "mimetype": "text/x-python",
      "name": "python",
      "nbconvert_exporter": "python",
      "pygments_lexer": "ipython3",
      "version": "3.10.16"
    }
  },
  "nbformat": 4,
  "nbformat_minor": 0
}
